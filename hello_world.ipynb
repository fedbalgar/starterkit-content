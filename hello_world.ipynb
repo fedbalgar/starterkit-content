{
 "cells": [
  {
   "cell_type": "code",
   "execution_count": 0,
   "id": "1c4977b5-315b-4435-90cf-9039c71bb119",
   "metadata": {},
   "outputs": [],
   "source": [
    "from starterkit import spark, sc"
   ]
  },
  {
   "cell_type": "code",
   "execution_count": 1,
   "id": "a1c90149-742c-4c5a-bb00-2dfd17fde01e",
   "metadata": {},
   "outputs": [],
   "source": [
    "sc = spark.sparkContext\n",
    "rdd=sc.parallelize([1,2,3,4,5,6,7])\n",
    "rddCollect = rdd.collect()\n",
    "\n",
    "print(\"Number of Partitions:\")\n",
    "print(rdd.getNumPartitions())\n",
    "print(\"rddCollect:\")\n",
    "print(rddCollect)\n",
    "print(\"rdd.first()\")\n",
    "print(rdd.first())",
    "sc.stop()"
   ]
  }
 ],
 "metadata": {
  "kernelspec": {
   "display_name": "Python 3",
   "language": "python",
   "name": "python3"
  },
  "language_info": {
   "codemirror_mode": {
    "name": "ipython",
    "version": 3
   },
   "file_extension": ".py",
   "mimetype": "text/x-python",
   "name": "python",
   "nbconvert_exporter": "python",
   "pygments_lexer": "ipython3",
   "version": "3.8.10"
  }
 },
 "nbformat": 4,
 "nbformat_minor": 5
}
